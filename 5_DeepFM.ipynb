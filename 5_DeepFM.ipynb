{
  "cells": [
    {
      "cell_type": "markdown",
      "metadata": {
        "id": "-GZWJoZQ1Wwj"
      },
      "source": [
        "## DeepFM\n",
        "DeepFM, as the name suggests, is a deep learning-based extension for Factorization Machines capturing non-linear relationships."
      ]
    },
    {
      "cell_type": "markdown",
      "metadata": {
        "id": "xZeeQmms1Wwq"
      },
      "source": [
        "### Architecture\n",
        "![image](./images/deepfm.webp)"
      ]
    },
    {
      "cell_type": "markdown",
      "metadata": {
        "id": "mh1siG661Wwr"
      },
      "source": [
        "Neural Collaborative Filtering (NCF) utilizes a neural network with two branches that eventually converge to produce a single output. The NCF architecture consists of several key components:\n",
        "\n",
        "### 1. Input and Output\n",
        "\n",
        "As conveyed DeepFM is an extension of Factorization Machines, even though the input is quite similar i.e. One-Hot Encoded features. The output is 0–1 giving the probability of whether the user will click or not as sigmoid activation is used in the last layer. However, this can be changed to ReLU or Linear activation for ratings/ranking purposes (explicit feedback).\n",
        "\n",
        "### 2. Embeddings Layer\n",
        "\n",
        "This layer is trying to learn embeddings similar to the Latent vectors in the Factorization Machine. So, for each OHE feature, we will learn embeddings of the same size in this layer\n",
        "\n",
        "From here on, these embeddings will be fed to two different branches\n",
        "\n",
        "#### a. Factorization Machines\n",
        "This is a replica of the Factorization Machine where, using the latent vector embeddings we generated in the previous step, will use the below equation\n",
        "\n",
        "y = w₀ + ∑(wᵢ * xᵢ) + ∑ᵢ(∑ⱼ(<vᵢ . vⱼ> * xᵢ * xⱼ))\n",
        "\n",
        "Where\n",
        "\n",
        "    y = Label\n",
        "\n",
        "    w₀ = Bias\n",
        "\n",
        "    wᵢ = weights\n",
        "\n",
        "    xᵢ = Features from One-Hot encoded feature-set\n",
        "\n",
        "    <vᵢ . vⱼ> = Dot product between latent vectors.\n",
        "\n",
        "Note: Touch down on this blog to understand the equation\n",
        "\n",
        "The other branch where the embeddings are fed is\n",
        "#### b. DNN\n",
        "\n",
        "This is a general Neural Network (similar to NCF’s MLP) where all these latent vector embeddings are fed to a few hidden layers and forwarded to a final output layer.\n",
        "\n",
        "### 5. Final Output\n",
        "\n",
        "The outputs from the Factorization Machine and DNN segments are combined together (concatenated) and then the sigmoid function is applied for the final output. So, a DeepFM can be summarized as"
      ]
    },
    {
      "cell_type": "markdown",
      "metadata": {
        "id": "NbHJTIPy1Wws"
      },
      "source": [
        "## Implementation"
      ]
    },
    {
      "cell_type": "markdown",
      "metadata": {
        "id": "KnBFr-Xs1Wwt"
      },
      "source": [
        "#### 1. Imports"
      ]
    },
    {
      "cell_type": "code",
      "execution_count": 1,
      "metadata": {
        "colab": {
          "base_uri": "https://localhost:8080/"
        },
        "id": "xRpJXvlq1Wwu",
        "outputId": "a8cd7f3c-9ffd-498b-d04b-4a44913a7948"
      },
      "outputs": [
        {
          "output_type": "stream",
          "name": "stdout",
          "text": [
            "Requirement already satisfied: LibRecommender in /usr/local/lib/python3.10/dist-packages (1.5.1)\n",
            "Requirement already satisfied: gensim>=4.0.0 in /usr/local/lib/python3.10/dist-packages (from LibRecommender) (4.3.2)\n",
            "Requirement already satisfied: tqdm in /usr/local/lib/python3.10/dist-packages (from LibRecommender) (4.66.4)\n",
            "Requirement already satisfied: numpy>=1.18.5 in /usr/local/lib/python3.10/dist-packages (from gensim>=4.0.0->LibRecommender) (1.25.2)\n",
            "Requirement already satisfied: scipy>=1.7.0 in /usr/local/lib/python3.10/dist-packages (from gensim>=4.0.0->LibRecommender) (1.11.4)\n",
            "Requirement already satisfied: smart-open>=1.8.1 in /usr/local/lib/python3.10/dist-packages (from gensim>=4.0.0->LibRecommender) (7.0.4)\n",
            "Requirement already satisfied: wrapt in /usr/local/lib/python3.10/dist-packages (from smart-open>=1.8.1->gensim>=4.0.0->LibRecommender) (1.14.1)\n"
          ]
        }
      ],
      "source": [
        "!pip install LibRecommender"
      ]
    },
    {
      "cell_type": "code",
      "execution_count": 2,
      "metadata": {
        "colab": {
          "base_uri": "https://localhost:8080/"
        },
        "id": "c7X3OJ3j1Wwx",
        "outputId": "c3cbfbc3-7dbc-4d98-d284-0ff53cc3d9a8"
      },
      "outputs": [
        {
          "output_type": "stream",
          "name": "stderr",
          "text": [
            "WARNING:tensorflow:From /usr/local/lib/python3.10/dist-packages/tensorflow/python/compat/v2_compat.py:108: disable_resource_variables (from tensorflow.python.ops.variable_scope) is deprecated and will be removed in a future version.\n",
            "Instructions for updating:\n",
            "non-resource variables are not supported in the long term\n"
          ]
        }
      ],
      "source": [
        "import numpy as np\n",
        "import pandas as pd\n",
        "\n",
        "\n",
        "from libreco.data import split_by_ratio_chrono, DatasetFeat\n",
        "from libreco.algorithms import DeepFM"
      ]
    },
    {
      "cell_type": "markdown",
      "metadata": {
        "id": "uJ6KbVCI1Wwy"
      },
      "source": [
        "### 2. Dataset\n",
        "Movielens data"
      ]
    },
    {
      "cell_type": "code",
      "execution_count": 3,
      "metadata": {
        "id": "t3veftZr1Ww0"
      },
      "outputs": [],
      "source": [
        "data = pd.read_csv(\"./sample_movielens_merged.csv\", sep=\",\", header=0)\n",
        "data.fillna(value={'age':0,'genre1':'','genre2':'','genre3':'','occupation':'','sex':''},inplace=True)"
      ]
    },
    {
      "cell_type": "code",
      "execution_count": 4,
      "metadata": {
        "colab": {
          "base_uri": "https://localhost:8080/"
        },
        "id": "qXC_sEUM1Ww4",
        "outputId": "e9f0ebe3-6633-4253-89d3-c72804cebc22"
      },
      "outputs": [
        {
          "output_type": "execute_result",
          "data": {
            "text/plain": [
              "(100021, 10)"
            ]
          },
          "metadata": {},
          "execution_count": 4
        }
      ],
      "source": [
        "data.shape"
      ]
    },
    {
      "cell_type": "code",
      "execution_count": 5,
      "metadata": {
        "colab": {
          "base_uri": "https://localhost:8080/",
          "height": 206
        },
        "id": "PtqA-xmc1Ww6",
        "outputId": "ca959afe-ad93-4f4b-930b-e41143b25250"
      },
      "outputs": [
        {
          "output_type": "execute_result",
          "data": {
            "text/plain": [
              "   user  item  label       time sex  age  occupation  genre1     genre2  \\\n",
              "0  4617   296      2  964138229   F   25           6   crime      drama   \n",
              "1  1298   208      4  974849526   M   35           6  action  adventure   \n",
              "2  4585  1769      4  964322774   M   35           7  action   thriller   \n",
              "3  3706  1136      5  966376465   M   25          12  comedy    missing   \n",
              "4  2137  1215      3  974640099   F    1          10  action  adventure   \n",
              "\n",
              "    genre3  \n",
              "0  missing  \n",
              "1  missing  \n",
              "2  missing  \n",
              "3  missing  \n",
              "4   comedy  "
            ],
            "text/html": [
              "\n",
              "  <div id=\"df-d2eceac9-d4d9-4a84-a0c0-688f9692c76c\" class=\"colab-df-container\">\n",
              "    <div>\n",
              "<style scoped>\n",
              "    .dataframe tbody tr th:only-of-type {\n",
              "        vertical-align: middle;\n",
              "    }\n",
              "\n",
              "    .dataframe tbody tr th {\n",
              "        vertical-align: top;\n",
              "    }\n",
              "\n",
              "    .dataframe thead th {\n",
              "        text-align: right;\n",
              "    }\n",
              "</style>\n",
              "<table border=\"1\" class=\"dataframe\">\n",
              "  <thead>\n",
              "    <tr style=\"text-align: right;\">\n",
              "      <th></th>\n",
              "      <th>user</th>\n",
              "      <th>item</th>\n",
              "      <th>label</th>\n",
              "      <th>time</th>\n",
              "      <th>sex</th>\n",
              "      <th>age</th>\n",
              "      <th>occupation</th>\n",
              "      <th>genre1</th>\n",
              "      <th>genre2</th>\n",
              "      <th>genre3</th>\n",
              "    </tr>\n",
              "  </thead>\n",
              "  <tbody>\n",
              "    <tr>\n",
              "      <th>0</th>\n",
              "      <td>4617</td>\n",
              "      <td>296</td>\n",
              "      <td>2</td>\n",
              "      <td>964138229</td>\n",
              "      <td>F</td>\n",
              "      <td>25</td>\n",
              "      <td>6</td>\n",
              "      <td>crime</td>\n",
              "      <td>drama</td>\n",
              "      <td>missing</td>\n",
              "    </tr>\n",
              "    <tr>\n",
              "      <th>1</th>\n",
              "      <td>1298</td>\n",
              "      <td>208</td>\n",
              "      <td>4</td>\n",
              "      <td>974849526</td>\n",
              "      <td>M</td>\n",
              "      <td>35</td>\n",
              "      <td>6</td>\n",
              "      <td>action</td>\n",
              "      <td>adventure</td>\n",
              "      <td>missing</td>\n",
              "    </tr>\n",
              "    <tr>\n",
              "      <th>2</th>\n",
              "      <td>4585</td>\n",
              "      <td>1769</td>\n",
              "      <td>4</td>\n",
              "      <td>964322774</td>\n",
              "      <td>M</td>\n",
              "      <td>35</td>\n",
              "      <td>7</td>\n",
              "      <td>action</td>\n",
              "      <td>thriller</td>\n",
              "      <td>missing</td>\n",
              "    </tr>\n",
              "    <tr>\n",
              "      <th>3</th>\n",
              "      <td>3706</td>\n",
              "      <td>1136</td>\n",
              "      <td>5</td>\n",
              "      <td>966376465</td>\n",
              "      <td>M</td>\n",
              "      <td>25</td>\n",
              "      <td>12</td>\n",
              "      <td>comedy</td>\n",
              "      <td>missing</td>\n",
              "      <td>missing</td>\n",
              "    </tr>\n",
              "    <tr>\n",
              "      <th>4</th>\n",
              "      <td>2137</td>\n",
              "      <td>1215</td>\n",
              "      <td>3</td>\n",
              "      <td>974640099</td>\n",
              "      <td>F</td>\n",
              "      <td>1</td>\n",
              "      <td>10</td>\n",
              "      <td>action</td>\n",
              "      <td>adventure</td>\n",
              "      <td>comedy</td>\n",
              "    </tr>\n",
              "  </tbody>\n",
              "</table>\n",
              "</div>\n",
              "    <div class=\"colab-df-buttons\">\n",
              "\n",
              "  <div class=\"colab-df-container\">\n",
              "    <button class=\"colab-df-convert\" onclick=\"convertToInteractive('df-d2eceac9-d4d9-4a84-a0c0-688f9692c76c')\"\n",
              "            title=\"Convert this dataframe to an interactive table.\"\n",
              "            style=\"display:none;\">\n",
              "\n",
              "  <svg xmlns=\"http://www.w3.org/2000/svg\" height=\"24px\" viewBox=\"0 -960 960 960\">\n",
              "    <path d=\"M120-120v-720h720v720H120Zm60-500h600v-160H180v160Zm220 220h160v-160H400v160Zm0 220h160v-160H400v160ZM180-400h160v-160H180v160Zm440 0h160v-160H620v160ZM180-180h160v-160H180v160Zm440 0h160v-160H620v160Z\"/>\n",
              "  </svg>\n",
              "    </button>\n",
              "\n",
              "  <style>\n",
              "    .colab-df-container {\n",
              "      display:flex;\n",
              "      gap: 12px;\n",
              "    }\n",
              "\n",
              "    .colab-df-convert {\n",
              "      background-color: #E8F0FE;\n",
              "      border: none;\n",
              "      border-radius: 50%;\n",
              "      cursor: pointer;\n",
              "      display: none;\n",
              "      fill: #1967D2;\n",
              "      height: 32px;\n",
              "      padding: 0 0 0 0;\n",
              "      width: 32px;\n",
              "    }\n",
              "\n",
              "    .colab-df-convert:hover {\n",
              "      background-color: #E2EBFA;\n",
              "      box-shadow: 0px 1px 2px rgba(60, 64, 67, 0.3), 0px 1px 3px 1px rgba(60, 64, 67, 0.15);\n",
              "      fill: #174EA6;\n",
              "    }\n",
              "\n",
              "    .colab-df-buttons div {\n",
              "      margin-bottom: 4px;\n",
              "    }\n",
              "\n",
              "    [theme=dark] .colab-df-convert {\n",
              "      background-color: #3B4455;\n",
              "      fill: #D2E3FC;\n",
              "    }\n",
              "\n",
              "    [theme=dark] .colab-df-convert:hover {\n",
              "      background-color: #434B5C;\n",
              "      box-shadow: 0px 1px 3px 1px rgba(0, 0, 0, 0.15);\n",
              "      filter: drop-shadow(0px 1px 2px rgba(0, 0, 0, 0.3));\n",
              "      fill: #FFFFFF;\n",
              "    }\n",
              "  </style>\n",
              "\n",
              "    <script>\n",
              "      const buttonEl =\n",
              "        document.querySelector('#df-d2eceac9-d4d9-4a84-a0c0-688f9692c76c button.colab-df-convert');\n",
              "      buttonEl.style.display =\n",
              "        google.colab.kernel.accessAllowed ? 'block' : 'none';\n",
              "\n",
              "      async function convertToInteractive(key) {\n",
              "        const element = document.querySelector('#df-d2eceac9-d4d9-4a84-a0c0-688f9692c76c');\n",
              "        const dataTable =\n",
              "          await google.colab.kernel.invokeFunction('convertToInteractive',\n",
              "                                                    [key], {});\n",
              "        if (!dataTable) return;\n",
              "\n",
              "        const docLinkHtml = 'Like what you see? Visit the ' +\n",
              "          '<a target=\"_blank\" href=https://colab.research.google.com/notebooks/data_table.ipynb>data table notebook</a>'\n",
              "          + ' to learn more about interactive tables.';\n",
              "        element.innerHTML = '';\n",
              "        dataTable['output_type'] = 'display_data';\n",
              "        await google.colab.output.renderOutput(dataTable, element);\n",
              "        const docLink = document.createElement('div');\n",
              "        docLink.innerHTML = docLinkHtml;\n",
              "        element.appendChild(docLink);\n",
              "      }\n",
              "    </script>\n",
              "  </div>\n",
              "\n",
              "\n",
              "<div id=\"df-462ca6d9-29c9-4edb-a8f0-c0dd8db0a0cc\">\n",
              "  <button class=\"colab-df-quickchart\" onclick=\"quickchart('df-462ca6d9-29c9-4edb-a8f0-c0dd8db0a0cc')\"\n",
              "            title=\"Suggest charts\"\n",
              "            style=\"display:none;\">\n",
              "\n",
              "<svg xmlns=\"http://www.w3.org/2000/svg\" height=\"24px\"viewBox=\"0 0 24 24\"\n",
              "     width=\"24px\">\n",
              "    <g>\n",
              "        <path d=\"M19 3H5c-1.1 0-2 .9-2 2v14c0 1.1.9 2 2 2h14c1.1 0 2-.9 2-2V5c0-1.1-.9-2-2-2zM9 17H7v-7h2v7zm4 0h-2V7h2v10zm4 0h-2v-4h2v4z\"/>\n",
              "    </g>\n",
              "</svg>\n",
              "  </button>\n",
              "\n",
              "<style>\n",
              "  .colab-df-quickchart {\n",
              "      --bg-color: #E8F0FE;\n",
              "      --fill-color: #1967D2;\n",
              "      --hover-bg-color: #E2EBFA;\n",
              "      --hover-fill-color: #174EA6;\n",
              "      --disabled-fill-color: #AAA;\n",
              "      --disabled-bg-color: #DDD;\n",
              "  }\n",
              "\n",
              "  [theme=dark] .colab-df-quickchart {\n",
              "      --bg-color: #3B4455;\n",
              "      --fill-color: #D2E3FC;\n",
              "      --hover-bg-color: #434B5C;\n",
              "      --hover-fill-color: #FFFFFF;\n",
              "      --disabled-bg-color: #3B4455;\n",
              "      --disabled-fill-color: #666;\n",
              "  }\n",
              "\n",
              "  .colab-df-quickchart {\n",
              "    background-color: var(--bg-color);\n",
              "    border: none;\n",
              "    border-radius: 50%;\n",
              "    cursor: pointer;\n",
              "    display: none;\n",
              "    fill: var(--fill-color);\n",
              "    height: 32px;\n",
              "    padding: 0;\n",
              "    width: 32px;\n",
              "  }\n",
              "\n",
              "  .colab-df-quickchart:hover {\n",
              "    background-color: var(--hover-bg-color);\n",
              "    box-shadow: 0 1px 2px rgba(60, 64, 67, 0.3), 0 1px 3px 1px rgba(60, 64, 67, 0.15);\n",
              "    fill: var(--button-hover-fill-color);\n",
              "  }\n",
              "\n",
              "  .colab-df-quickchart-complete:disabled,\n",
              "  .colab-df-quickchart-complete:disabled:hover {\n",
              "    background-color: var(--disabled-bg-color);\n",
              "    fill: var(--disabled-fill-color);\n",
              "    box-shadow: none;\n",
              "  }\n",
              "\n",
              "  .colab-df-spinner {\n",
              "    border: 2px solid var(--fill-color);\n",
              "    border-color: transparent;\n",
              "    border-bottom-color: var(--fill-color);\n",
              "    animation:\n",
              "      spin 1s steps(1) infinite;\n",
              "  }\n",
              "\n",
              "  @keyframes spin {\n",
              "    0% {\n",
              "      border-color: transparent;\n",
              "      border-bottom-color: var(--fill-color);\n",
              "      border-left-color: var(--fill-color);\n",
              "    }\n",
              "    20% {\n",
              "      border-color: transparent;\n",
              "      border-left-color: var(--fill-color);\n",
              "      border-top-color: var(--fill-color);\n",
              "    }\n",
              "    30% {\n",
              "      border-color: transparent;\n",
              "      border-left-color: var(--fill-color);\n",
              "      border-top-color: var(--fill-color);\n",
              "      border-right-color: var(--fill-color);\n",
              "    }\n",
              "    40% {\n",
              "      border-color: transparent;\n",
              "      border-right-color: var(--fill-color);\n",
              "      border-top-color: var(--fill-color);\n",
              "    }\n",
              "    60% {\n",
              "      border-color: transparent;\n",
              "      border-right-color: var(--fill-color);\n",
              "    }\n",
              "    80% {\n",
              "      border-color: transparent;\n",
              "      border-right-color: var(--fill-color);\n",
              "      border-bottom-color: var(--fill-color);\n",
              "    }\n",
              "    90% {\n",
              "      border-color: transparent;\n",
              "      border-bottom-color: var(--fill-color);\n",
              "    }\n",
              "  }\n",
              "</style>\n",
              "\n",
              "  <script>\n",
              "    async function quickchart(key) {\n",
              "      const quickchartButtonEl =\n",
              "        document.querySelector('#' + key + ' button');\n",
              "      quickchartButtonEl.disabled = true;  // To prevent multiple clicks.\n",
              "      quickchartButtonEl.classList.add('colab-df-spinner');\n",
              "      try {\n",
              "        const charts = await google.colab.kernel.invokeFunction(\n",
              "            'suggestCharts', [key], {});\n",
              "      } catch (error) {\n",
              "        console.error('Error during call to suggestCharts:', error);\n",
              "      }\n",
              "      quickchartButtonEl.classList.remove('colab-df-spinner');\n",
              "      quickchartButtonEl.classList.add('colab-df-quickchart-complete');\n",
              "    }\n",
              "    (() => {\n",
              "      let quickchartButtonEl =\n",
              "        document.querySelector('#df-462ca6d9-29c9-4edb-a8f0-c0dd8db0a0cc button');\n",
              "      quickchartButtonEl.style.display =\n",
              "        google.colab.kernel.accessAllowed ? 'block' : 'none';\n",
              "    })();\n",
              "  </script>\n",
              "</div>\n",
              "\n",
              "    </div>\n",
              "  </div>\n"
            ],
            "application/vnd.google.colaboratory.intrinsic+json": {
              "type": "dataframe",
              "variable_name": "data"
            }
          },
          "metadata": {},
          "execution_count": 5
        }
      ],
      "source": [
        "data.head()"
      ]
    },
    {
      "cell_type": "code",
      "execution_count": 6,
      "metadata": {
        "colab": {
          "base_uri": "https://localhost:8080/"
        },
        "id": "-msV7ae21Ww9",
        "outputId": "6e825a1c-eeb4-4d07-9b35-4888dc9dcd1a"
      },
      "outputs": [
        {
          "output_type": "execute_result",
          "data": {
            "text/plain": [
              "Index(['user', 'item', 'label', 'time', 'sex', 'age', 'occupation', 'genre1',\n",
              "       'genre2', 'genre3'],\n",
              "      dtype='object')"
            ]
          },
          "metadata": {},
          "execution_count": 6
        }
      ],
      "source": [
        "data.columns"
      ]
    },
    {
      "cell_type": "code",
      "source": [
        "# split into train and test data based on time\n",
        "train_data, test_data = split_by_ratio_chrono(data, test_size=0.2)"
      ],
      "metadata": {
        "id": "6YP4ptec7KMz"
      },
      "execution_count": 7,
      "outputs": []
    },
    {
      "cell_type": "markdown",
      "source": [
        "- Sparse columns: Categorical columns\n",
        "\n",
        "- Dense columns: Numerical columns\n",
        "\n",
        "- User & Item columns"
      ],
      "metadata": {
        "id": "gNC9MQJ46dyC"
      }
    },
    {
      "cell_type": "code",
      "execution_count": 8,
      "metadata": {
        "id": "o17YA99R1Ww-"
      },
      "outputs": [],
      "source": [
        "# specify complete columns information\n",
        "sparse_col = [\"sex\", \"occupation\", \"genre1\", \"genre2\", \"genre3\"]\n",
        "dense_col = [\"age\"]\n",
        "user_col = [\"sex\", \"age\", \"occupation\"]\n",
        "item_col = [\"genre1\", \"genre2\", \"genre3\"]\n",
        "\n",
        "train_data, data_info = DatasetFeat.build_trainset(train_data, user_col, item_col, sparse_col, dense_col)\n",
        "test_data = DatasetFeat.build_testset(test_data)"
      ]
    },
    {
      "cell_type": "markdown",
      "metadata": {
        "id": "6xWqyodN1WxC"
      },
      "source": [
        "## 3. DeepFM\n",
        "\n",
        "Look: https://librecommender.readthedocs.io/en/latest/user_guide/model_train.html"
      ]
    },
    {
      "cell_type": "code",
      "execution_count": 9,
      "metadata": {
        "id": "8YOdRsYJ1WxD"
      },
      "outputs": [],
      "source": [
        "model = DeepFM(\n",
        "    task=\"ranking\",\n",
        "    data_info=data_info,\n",
        "    embed_size=64,\n",
        "    n_epochs=10,\n",
        "    lr=1e-4,\n",
        "    batch_size=512,\n",
        "    use_bn=True,\n",
        "    hidden_units=(128, 64, 32),\n",
        ")"
      ]
    },
    {
      "cell_type": "markdown",
      "metadata": {
        "id": "vM4cKQ1_1WxE"
      },
      "source": [
        "### Hyper-parameters\n",
        "- Task = `rating` and `ranking`\n",
        "\n",
        "- `Rating` is usually used when we have a dataset around explicit feedback (direct rating, starts given by customers)\n",
        "\n",
        "- The `ranking` is used when the dataset has implicit feedback (customer clicks, opens a webpage, etc)\n",
        "\n",
        "- `data_info` holds meta-information about the training dataset\n",
        "\n",
        "- `embedding_size`= Embedding size for user and item embeddings\n"
      ]
    },
    {
      "cell_type": "code",
      "execution_count": 10,
      "metadata": {
        "colab": {
          "base_uri": "https://localhost:8080/"
        },
        "id": "LUpykhyY1WxF",
        "outputId": "79c7434e-720b-4eb7-a52a-c280853af242"
      },
      "outputs": [
        {
          "output_type": "stream",
          "name": "stdout",
          "text": [
            "Training start time: \u001b[35m2024-07-22 19:37:10\u001b[0m\n"
          ]
        },
        {
          "output_type": "stream",
          "name": "stderr",
          "text": [
            "/usr/local/lib/python3.10/dist-packages/libreco/layers/dense.py:31: UserWarning: `tf.layers.batch_normalization` is deprecated and will be removed in a future version. Please use `tf.keras.layers.BatchNormalization` instead. In particular, `tf.control_dependencies(tf.GraphKeys.UPDATE_OPS)` should not be used (consult the `tf.keras.layers.BatchNormalization` documentation).\n",
            "  net = tf.layers.batch_normalization(net, training=is_training)\n",
            "WARNING:tensorflow:From /usr/local/lib/python3.10/dist-packages/keras/src/layers/normalization/batch_normalization.py:883: _colocate_with (from tensorflow.python.framework.ops) is deprecated and will be removed in a future version.\n",
            "Instructions for updating:\n",
            "Colocations handled automatically by placer.\n",
            "/usr/local/lib/python3.10/dist-packages/libreco/layers/dense.py:39: UserWarning: `tf.layers.batch_normalization` is deprecated and will be removed in a future version. Please use `tf.keras.layers.BatchNormalization` instead. In particular, `tf.control_dependencies(tf.GraphKeys.UPDATE_OPS)` should not be used (consult the `tf.keras.layers.BatchNormalization` documentation).\n",
            "  net = tf.layers.batch_normalization(net, training=is_training)\n"
          ]
        },
        {
          "output_type": "stream",
          "name": "stdout",
          "text": [
            "total params: \u001b[33m678,440\u001b[0m | embedding params: \u001b[33m601,151\u001b[0m | network params: \u001b[33m77,289\u001b[0m\n"
          ]
        },
        {
          "output_type": "stream",
          "name": "stderr",
          "text": [
            "train: 100%|██████████| 315/315 [00:08<00:00, 38.69it/s]\n"
          ]
        },
        {
          "output_type": "stream",
          "name": "stdout",
          "text": [
            "Epoch 1 elapsed: 8.162s\n",
            "\t \u001b[32mtrain_loss: 0.9579\u001b[0m\n"
          ]
        },
        {
          "output_type": "stream",
          "name": "stderr",
          "text": [
            "eval_pointwise: 100%|██████████| 5/5 [00:00<00:00, 18.61it/s]\n"
          ]
        },
        {
          "output_type": "stream",
          "name": "stdout",
          "text": [
            "\t eval log_loss: 0.7250\n",
            "==============================\n"
          ]
        },
        {
          "output_type": "stream",
          "name": "stderr",
          "text": [
            "train: 100%|██████████| 315/315 [00:03<00:00, 101.10it/s]\n"
          ]
        },
        {
          "output_type": "stream",
          "name": "stdout",
          "text": [
            "Epoch 2 elapsed: 3.125s\n",
            "\t \u001b[32mtrain_loss: 0.5694\u001b[0m\n"
          ]
        },
        {
          "output_type": "stream",
          "name": "stderr",
          "text": [
            "eval_pointwise: 100%|██████████| 5/5 [00:00<00:00, 207.73it/s]\n"
          ]
        },
        {
          "output_type": "stream",
          "name": "stdout",
          "text": [
            "\t eval log_loss: 0.6160\n",
            "==============================\n"
          ]
        },
        {
          "output_type": "stream",
          "name": "stderr",
          "text": [
            "train: 100%|██████████| 315/315 [00:01<00:00, 160.20it/s]\n"
          ]
        },
        {
          "output_type": "stream",
          "name": "stdout",
          "text": [
            "Epoch 3 elapsed: 1.972s\n",
            "\t \u001b[32mtrain_loss: 0.5337\u001b[0m\n"
          ]
        },
        {
          "output_type": "stream",
          "name": "stderr",
          "text": [
            "eval_pointwise: 100%|██████████| 5/5 [00:00<00:00, 203.57it/s]\n"
          ]
        },
        {
          "output_type": "stream",
          "name": "stdout",
          "text": [
            "\t eval log_loss: 0.6128\n",
            "==============================\n"
          ]
        },
        {
          "output_type": "stream",
          "name": "stderr",
          "text": [
            "train: 100%|██████████| 315/315 [00:01<00:00, 161.23it/s]\n"
          ]
        },
        {
          "output_type": "stream",
          "name": "stdout",
          "text": [
            "Epoch 4 elapsed: 1.962s\n",
            "\t \u001b[32mtrain_loss: 0.5175\u001b[0m\n"
          ]
        },
        {
          "output_type": "stream",
          "name": "stderr",
          "text": [
            "eval_pointwise: 100%|██████████| 5/5 [00:00<00:00, 159.14it/s]\n"
          ]
        },
        {
          "output_type": "stream",
          "name": "stdout",
          "text": [
            "\t eval log_loss: 0.6174\n",
            "==============================\n"
          ]
        },
        {
          "output_type": "stream",
          "name": "stderr",
          "text": [
            "train: 100%|██████████| 315/315 [00:01<00:00, 159.82it/s]\n"
          ]
        },
        {
          "output_type": "stream",
          "name": "stdout",
          "text": [
            "Epoch 5 elapsed: 1.978s\n",
            "\t \u001b[32mtrain_loss: 0.5045\u001b[0m\n"
          ]
        },
        {
          "output_type": "stream",
          "name": "stderr",
          "text": [
            "eval_pointwise: 100%|██████████| 5/5 [00:00<00:00, 177.56it/s]\n"
          ]
        },
        {
          "output_type": "stream",
          "name": "stdout",
          "text": [
            "\t eval log_loss: 0.6220\n",
            "==============================\n"
          ]
        },
        {
          "output_type": "stream",
          "name": "stderr",
          "text": [
            "train: 100%|██████████| 315/315 [00:01<00:00, 162.05it/s]\n"
          ]
        },
        {
          "output_type": "stream",
          "name": "stdout",
          "text": [
            "Epoch 6 elapsed: 1.953s\n",
            "\t \u001b[32mtrain_loss: 0.4894\u001b[0m\n"
          ]
        },
        {
          "output_type": "stream",
          "name": "stderr",
          "text": [
            "eval_pointwise: 100%|██████████| 5/5 [00:00<00:00, 192.74it/s]\n"
          ]
        },
        {
          "output_type": "stream",
          "name": "stdout",
          "text": [
            "\t eval log_loss: 0.6219\n",
            "==============================\n"
          ]
        },
        {
          "output_type": "stream",
          "name": "stderr",
          "text": [
            "train: 100%|██████████| 315/315 [00:02<00:00, 121.82it/s]\n"
          ]
        },
        {
          "output_type": "stream",
          "name": "stdout",
          "text": [
            "Epoch 7 elapsed: 2.595s\n",
            "\t \u001b[32mtrain_loss: 0.4716\u001b[0m\n"
          ]
        },
        {
          "output_type": "stream",
          "name": "stderr",
          "text": [
            "eval_pointwise: 100%|██████████| 5/5 [00:00<00:00, 145.55it/s]\n"
          ]
        },
        {
          "output_type": "stream",
          "name": "stdout",
          "text": [
            "\t eval log_loss: 0.6362\n",
            "==============================\n"
          ]
        },
        {
          "output_type": "stream",
          "name": "stderr",
          "text": [
            "train: 100%|██████████| 315/315 [00:02<00:00, 126.83it/s]\n"
          ]
        },
        {
          "output_type": "stream",
          "name": "stdout",
          "text": [
            "Epoch 8 elapsed: 2.493s\n",
            "\t \u001b[32mtrain_loss: 0.4581\u001b[0m\n"
          ]
        },
        {
          "output_type": "stream",
          "name": "stderr",
          "text": [
            "eval_pointwise: 100%|██████████| 5/5 [00:00<00:00, 201.85it/s]\n"
          ]
        },
        {
          "output_type": "stream",
          "name": "stdout",
          "text": [
            "\t eval log_loss: 0.6517\n",
            "==============================\n"
          ]
        },
        {
          "output_type": "stream",
          "name": "stderr",
          "text": [
            "train: 100%|██████████| 315/315 [00:01<00:00, 162.55it/s]\n"
          ]
        },
        {
          "output_type": "stream",
          "name": "stdout",
          "text": [
            "Epoch 9 elapsed: 1.942s\n",
            "\t \u001b[32mtrain_loss: 0.4428\u001b[0m\n"
          ]
        },
        {
          "output_type": "stream",
          "name": "stderr",
          "text": [
            "eval_pointwise: 100%|██████████| 5/5 [00:00<00:00, 190.93it/s]\n"
          ]
        },
        {
          "output_type": "stream",
          "name": "stdout",
          "text": [
            "\t eval log_loss: 0.6611\n",
            "==============================\n"
          ]
        },
        {
          "output_type": "stream",
          "name": "stderr",
          "text": [
            "train: 100%|██████████| 315/315 [00:01<00:00, 163.34it/s]\n"
          ]
        },
        {
          "output_type": "stream",
          "name": "stdout",
          "text": [
            "Epoch 10 elapsed: 1.935s\n",
            "\t \u001b[32mtrain_loss: 0.4281\u001b[0m\n"
          ]
        },
        {
          "output_type": "stream",
          "name": "stderr",
          "text": [
            "eval_pointwise: 100%|██████████| 5/5 [00:00<00:00, 194.63it/s]\n"
          ]
        },
        {
          "output_type": "stream",
          "name": "stdout",
          "text": [
            "\t eval log_loss: 0.6837\n",
            "==============================\n"
          ]
        }
      ],
      "source": [
        "model.fit(\n",
        "    train_data,\n",
        "    neg_sampling=True,\n",
        "    verbose=2,\n",
        "    shuffle=True,\n",
        "    eval_data=test_data,\n",
        "    metrics=[\"loss\"],\n",
        ")"
      ]
    },
    {
      "cell_type": "markdown",
      "metadata": {
        "id": "nqHoYrt11WxJ"
      },
      "source": [
        "### 4. Prediction Time"
      ]
    },
    {
      "cell_type": "code",
      "execution_count": 11,
      "metadata": {
        "colab": {
          "base_uri": "https://localhost:8080/"
        },
        "id": "8EJfT5Lj1WxJ",
        "outputId": "dc860074-0822-4477-c493-c8f1d192b3c5"
      },
      "outputs": [
        {
          "output_type": "execute_result",
          "data": {
            "text/plain": [
              "0.9818667"
            ]
          },
          "metadata": {},
          "execution_count": 11
        }
      ],
      "source": [
        "# predict preference of user 2211 to item 110\n",
        "model.predict(user=2211, item=110)"
      ]
    },
    {
      "cell_type": "code",
      "execution_count": 12,
      "metadata": {
        "colab": {
          "base_uri": "https://localhost:8080/"
        },
        "id": "bGQsUut_1WxK",
        "outputId": "cb193365-55b4-441e-93af-b404407adade"
      },
      "outputs": [
        {
          "output_type": "execute_result",
          "data": {
            "text/plain": [
              "{2211: array([2858, 1270,  110, 1265, 2791, 3072, 3448])}"
            ]
          },
          "metadata": {},
          "execution_count": 12
        }
      ],
      "source": [
        "# recommend 7 items for user 2211\n",
        "model.recommend_user(user=2211, n_rec=7)"
      ]
    },
    {
      "cell_type": "code",
      "execution_count": 13,
      "metadata": {
        "colab": {
          "base_uri": "https://localhost:8080/"
        },
        "id": "j3MYF_uT1WxM",
        "outputId": "1b2233f0-9c89-4030-d2bf-5f5ee9f88c7d"
      },
      "outputs": [
        {
          "output_type": "stream",
          "name": "stdout",
          "text": [
            "\u001b[31mDetect 1 unknown interaction(s), position: [0]\u001b[0m\n",
            "\u001b[31mDetect unknown user: are we good?\u001b[0m\n"
          ]
        },
        {
          "output_type": "execute_result",
          "data": {
            "text/plain": [
              "{'are we good?': array([ 480, 1573,   50, 1193, 1193, 1393,  480])}"
            ]
          },
          "metadata": {},
          "execution_count": 13
        }
      ],
      "source": [
        "# cold-start prediction\n",
        "model.predict(user=\"ccc\", item=\"not item\", cold_start=\"average\")\n",
        "# cold-start recommendation\n",
        "model.recommend_user(user=\"are we good?\", n_rec=7, cold_start=\"popular\")"
      ]
    },
    {
      "cell_type": "code",
      "source": [],
      "metadata": {
        "id": "aaTH-Ezs8-4c"
      },
      "execution_count": null,
      "outputs": []
    }
  ],
  "metadata": {
    "kernelspec": {
      "display_name": "Python 3",
      "name": "python3"
    },
    "language_info": {
      "codemirror_mode": {
        "name": "ipython",
        "version": 3
      },
      "file_extension": ".py",
      "mimetype": "text/x-python",
      "name": "python",
      "nbconvert_exporter": "python",
      "pygments_lexer": "ipython3",
      "version": "3.11.7"
    },
    "colab": {
      "provenance": [],
      "gpuType": "T4"
    },
    "accelerator": "GPU"
  },
  "nbformat": 4,
  "nbformat_minor": 0
}